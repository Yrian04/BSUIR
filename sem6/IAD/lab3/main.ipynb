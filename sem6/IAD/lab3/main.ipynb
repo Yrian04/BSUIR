{
    "cells": [
        {
            "cell_type": "code",
            "execution_count": 1,
            "metadata": {},
            "outputs": [],
            "source": [
                "epochs = 3\n",
                "rate = 0.5 ** 10\n",
                "batch_size = 10\n",
                "metric_kwargs = {\n",
                "    'task': 'multiclass', \n",
                "    'num_classes': 10,\n",
                "}"
            ]
        },
        {
            "cell_type": "code",
            "execution_count": 2,
            "metadata": {},
            "outputs": [],
            "source": [
                "import torch, torchvision\n",
                "\n",
                "\n",
                "transform = torchvision.transforms.Compose([\n",
                "    torchvision.transforms.ToTensor(),\n",
                "    torchvision.transforms.Normalize((0.1307,), (0.3081,))\n",
                "])\n",
                "\n",
                "train_dataset = torchvision.datasets.mnist.MNIST('.', train=True, transform=transform, download=True)\n",
                "test_dataset = torchvision.datasets.mnist.MNIST('.', train=False, transform=transform, download=True)"
            ]
        },
        {
            "cell_type": "code",
            "execution_count": 3,
            "metadata": {},
            "outputs": [],
            "source": [
                "train_loader = torch.utils.data.DataLoader(train_dataset, batch_size=batch_size, shuffle=True)\n",
                "test_loader = torch.utils.data.DataLoader(test_dataset, batch_size=batch_size)"
            ]
        },
        {
            "cell_type": "code",
            "execution_count": 4,
            "metadata": {},
            "outputs": [],
            "source": [
                "class MnistNet(torch.nn.Module):\n",
                "    def __init__(self, *args, **kwargs):\n",
                "        super(MnistNet, self).__init__(*args, **kwargs)\n",
                "        self.layer1 = torch.nn.Sequential(\n",
                "            torch.nn.Conv2d(\n",
                "                1,\n",
                "                32,\n",
                "                kernel_size=5,\n",
                "                stride=1,\n",
                "                padding=2,\n",
                "            ),\n",
                "            torch.nn.ReLU(),\n",
                "            torch.nn.MaxPool2d(\n",
                "                kernel_size=2,\n",
                "                stride=2,\n",
                "            ),\n",
                "        )\n",
                "        self.layer2 = torch.nn.Sequential(\n",
                "            torch.nn.Conv2d(\n",
                "                32,\n",
                "                64,\n",
                "                kernel_size=5,\n",
                "                stride=1,\n",
                "                padding=2,\n",
                "            ),\n",
                "            torch.nn.ReLU(),\n",
                "            torch.nn.MaxPool2d(\n",
                "                kernel_size=2,\n",
                "                stride=2,\n",
                "            ),\n",
                "        )\n",
                "        self.dropout = torch.nn.Dropout()\n",
                "        self.fc1 = torch.nn.Linear(7 * 7 * 64, 1024)\n",
                "        self.fc2 = torch.nn.Linear(1024, 10)\n",
                "    \n",
                "    def forward(self, x):\n",
                "        out = self.layer1(x)\n",
                "        out = self.layer2(out)\n",
                "        out = out.reshape(out.size(0), -1)\n",
                "        out = self.dropout(out)\n",
                "        out = self.fc1(out)\n",
                "        out = self.fc2(out)\n",
                "        return out"
            ]
        },
        {
            "cell_type": "code",
            "execution_count": 5,
            "metadata": {},
            "outputs": [
                {
                    "data": {
                        "text/plain": [
                            "<All keys matched successfully>"
                        ]
                    },
                    "execution_count": 5,
                    "metadata": {},
                    "output_type": "execute_result"
                }
            ],
            "source": [
                "model = MnistNet()\n",
                "model.load_state_dict(state_dict=torch.load('conv_net_model.ckpt'))\n",
                "# criterion = torch.nn.CrossEntropyLoss()"
            ]
        },
        {
            "cell_type": "code",
            "execution_count": 6,
            "metadata": {},
            "outputs": [],
            "source": [
                "optimizer = torch.optim.Adam(model.parameters(), lr=rate)"
            ]
        },
        {
            "cell_type": "code",
            "execution_count": null,
            "metadata": {},
            "outputs": [
                {
                    "ename": "TypeError",
                    "evalue": "Accuracy.__new__() missing 1 required positional argument: 'task'",
                    "output_type": "error",
                    "traceback": [
                        "\u001b[0;31m---------------------------------------------------------------------------\u001b[0m",
                        "\u001b[0;31mTypeError\u001b[0m                                 Traceback (most recent call last)",
                        "Cell \u001b[0;32mIn[24], line 6\u001b[0m\n\u001b[1;32m      4\u001b[0m total_step \u001b[38;5;241m=\u001b[39m \u001b[38;5;28mlen\u001b[39m(train_loader)\n\u001b[1;32m      5\u001b[0m epochs \u001b[38;5;241m=\u001b[39m \u001b[38;5;241m3\u001b[39m\n\u001b[0;32m----> 6\u001b[0m metric \u001b[38;5;241m=\u001b[39m \u001b[43mtorchmetrics\u001b[49m\u001b[38;5;241;43m.\u001b[39;49m\u001b[43mAccuracy\u001b[49m\u001b[43m(\u001b[49m\u001b[43m)\u001b[49m\n\u001b[1;32m      7\u001b[0m model\u001b[38;5;241m.\u001b[39mtrain()\n\u001b[1;32m      8\u001b[0m \u001b[38;5;28;01mfor\u001b[39;00m epoch \u001b[38;5;129;01min\u001b[39;00m \u001b[38;5;28mrange\u001b[39m(epochs):\n",
                        "\u001b[0;31mTypeError\u001b[0m: Accuracy.__new__() missing 1 required positional argument: 'task'"
                    ]
                }
            ],
            "source": [
                "import torchmetrics\n",
                "import matplotlib.pyplot as plt\n",
                "\n",
                "metric = torchmetrics.Accuracy()\n",
                "model.train()\n",
                "total_step = len(train_loader)\n",
                "for epoch in range(epochs):\n",
                "    for i, (images, labels) in enumerate(train_loader):\n",
                "        predictions = model(images)\n",
                "        loss = metric(predictions, labels)\n",
                "\n",
                "        optimizer.zero_grad()\n",
                "        loss.backward()\n",
                "        optimizer.step()\n",
                "\n",
                "        if (j := i + 1) % 100 == 0:\n",
                "            print('Epoch [{}/{}], Step [{}/{}], Loss: {:.4f}, Accuracy: {:.4f}%'.format(epoch + 1, epochs, j, total_step, loss.item(), metric(predictions, labels)))"
            ]
        },
        {
            "cell_type": "code",
            "execution_count": 6,
            "metadata": {},
            "outputs": [],
            "source": [
                "import torchmetrics\n",
                "\n",
                "\n",
                "metrics = {\n",
                "    'accuracy': torchmetrics.Accuracy(**metric_kwargs),\n",
                "    'precision': torchmetrics.Precision(**metric_kwargs),\n",
                "    'recall': torchmetrics.Recall(**metric_kwargs),\n",
                "    'f1-score': torchmetrics.F1Score(**metric_kwargs),\n",
                "}"
            ]
        },
        {
            "cell_type": "code",
            "execution_count": 11,
            "metadata": {},
            "outputs": [
                {
                    "name": "stdout",
                    "output_type": "stream",
                    "text": [
                        "---------------- 0\n",
                        "---------------- 1\n",
                        "---------------- 2\n",
                        "---------------- 3\n",
                        "---------------- 4\n",
                        "---------------- 5\n",
                        "---------------- 6\n",
                        "---------------- 7\n",
                        "---------------- 8\n",
                        "---------------- 9\n",
                        "---------------- 10\n",
                        "---------------- 11\n",
                        "---------------- 12\n",
                        "---------------- 13\n",
                        "---------------- 14\n",
                        "---------------- 15\n",
                        "---------------- 16\n",
                        "---------------- 17\n",
                        "---------------- 18\n",
                        "---------------- 19\n",
                        "---------------- 20\n",
                        "---------------- 21\n",
                        "---------------- 22\n",
                        "---------------- 23\n",
                        "---------------- 24\n",
                        "---------------- 25\n",
                        "---------------- 26\n",
                        "---------------- 27\n",
                        "---------------- 28\n",
                        "---------------- 29\n",
                        "---------------- 30\n",
                        "---------------- 31\n",
                        "---------------- 32\n",
                        "1 tensor(2)\n",
                        "Test of the model on the 10000 test images:\n",
                        "\tAccuracy: 0.9972972869873047 %\n",
                        "\tPrecision: 0.9972972869873047 %\n",
                        "\tRecall: 0.9972972869873047 %\n",
                        "\tF1-score: 0.9972972869873047 %\n"
                    ]
                },
                {
                    "data": {
                        "image/png": "[encoded data removed]",
                        "text/plain": [
                            "<Figure size 640x480 with 1 Axes>"
                        ]
                    },
                    "metadata": {},
                    "output_type": "display_data"
                }
            ],
            "source": [
                "import matplotlib.pyplot as plt\n",
                "\n",
                "\n",
                "model.eval()\n",
                "with torch.no_grad():\n",
                "    correct = 0\n",
                "    total = 0\n",
                "    for i, (images, labels) in enumerate(test_loader):\n",
                "        predictions = model(images)\n",
                "        _, predicted = torch.max(predictions.data, 1)\n",
                "        for metric in metrics.values():\n",
                "            metric(predicted, labels)\n",
                "        \n",
                "        flag = True\n",
                "        print('----------------', i)\n",
                "        for image, prediction, label in zip(images, predictions, labels):\n",
                "            pred = [i for i in prediction].index(max(prediction))\n",
                "            if pred == label:\n",
                "                continue\n",
                "            else:\n",
                "                flag = False\n",
                "                plt.imshow(image.reshape((28,28)))\n",
                "                print([i for i in prediction].index(max(prediction)), label)\n",
                "                break\n",
                "\n",
                "        if not flag:\n",
                "            break\n",
                "        \n",
                "    print(f'Test of the model on the {len(test_dataset)} test images:')\n",
                "    for metric in metrics:\n",
                "        print(f'\\t{metric.capitalize()}: {metrics[metric].compute()} %')\n",
                "\n",
                "\n",
                "# Сохраняем модель и строим график\n",
                "torch.save(model.state_dict(), 'conv_net_model.ckpt')\n",
                "\n"
            ]
        },
        {
            "cell_type": "code",
            "execution_count": null,
            "metadata": {},
            "outputs": [],
            "source": []
        }
    ],
    "metadata": {
        "kernelspec": {
            "display_name": ".venv",
            "language": "python",
            "name": "python3"
        },
        "language_info": {
            "codemirror_mode": {
                "name": "ipython",
                "version": 3
            },
            "file_extension": ".py",
            "mimetype": "text/x-python",
            "name": "python",
            "nbconvert_exporter": "python",
            "pygments_lexer": "ipython3",
            "version": "3.10.12"
        }
    },
    "nbformat": 4,
    "nbformat_minor": 2
}
